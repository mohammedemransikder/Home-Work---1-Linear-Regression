{
  "nbformat": 4,
  "nbformat_minor": 5,
  "metadata": {
    "kernelspec": {
      "display_name": "Python 3 (ipykernel)",
      "language": "python",
      "name": "python3"
    },
    "language_info": {
      "codemirror_mode": {
        "name": "ipython",
        "version": 3
      },
      "file_extension": ".py",
      "mimetype": "text/x-python",
      "name": "python",
      "nbconvert_exporter": "python",
      "pygments_lexer": "ipython3",
      "version": "3.8.11"
    },
    "colab": {
      "name": "SMOTE Assignment; Mohammed Emran Sikder.ipynb",
      "provenance": [],
      "include_colab_link": true
    }
  },
  "cells": [
    {
      "cell_type": "markdown",
      "metadata": {
        "id": "view-in-github",
        "colab_type": "text"
      },
      "source": [
        "<a href=\"https://colab.research.google.com/github/mohammedemransikder/Home-Work---1-Linear-Regression/blob/main/SMOTE_Assignment%3B_Mohammed_Emran_Sikder.ipynb\" target=\"_parent\"><img src=\"https://colab.research.google.com/assets/colab-badge.svg\" alt=\"Open In Colab\"/></a>"
      ]
    },
    {
      "cell_type": "code",
      "metadata": {
        "id": "9f1af411",
        "outputId": "8410c3a2-75f5-44e9-e609-d2476bab3340"
      },
      "source": [
        "!pip install imbalanced-learn"
      ],
      "id": "9f1af411",
      "execution_count": null,
      "outputs": [
        {
          "name": "stdout",
          "output_type": "stream",
          "text": [
            "Requirement already satisfied: imbalanced-learn in c:\\users\\user\\anaconda3\\lib\\site-packages (0.8.1)\n",
            "Requirement already satisfied: scikit-learn>=0.24 in c:\\users\\user\\anaconda3\\lib\\site-packages (from imbalanced-learn) (0.24.2)\n",
            "Requirement already satisfied: numpy>=1.13.3 in c:\\users\\user\\anaconda3\\lib\\site-packages (from imbalanced-learn) (1.19.5)\n",
            "Requirement already satisfied: scipy>=0.19.1 in c:\\users\\user\\anaconda3\\lib\\site-packages (from imbalanced-learn) (1.7.1)\n",
            "Requirement already satisfied: joblib>=0.11 in c:\\users\\user\\anaconda3\\lib\\site-packages (from imbalanced-learn) (1.0.1)\n",
            "Requirement already satisfied: threadpoolctl>=2.0.0 in c:\\users\\user\\anaconda3\\lib\\site-packages (from scikit-learn>=0.24->imbalanced-learn) (2.2.0)\n"
          ]
        }
      ]
    },
    {
      "cell_type": "code",
      "metadata": {
        "id": "c1999aa7",
        "outputId": "3f32ffd5-405a-41d0-e03b-a939268a0957"
      },
      "source": [
        "import imblearn\n",
        "print(imblearn.__version__)"
      ],
      "id": "c1999aa7",
      "execution_count": null,
      "outputs": [
        {
          "name": "stdout",
          "output_type": "stream",
          "text": [
            "0.8.1\n"
          ]
        }
      ]
    },
    {
      "cell_type": "markdown",
      "metadata": {
        "id": "256d2b5b"
      },
      "source": [
        "### \"SMOTE for Balancing Data\"..."
      ],
      "id": "256d2b5b"
    },
    {
      "cell_type": "code",
      "metadata": {
        "id": "b3c0e6ac"
      },
      "source": [
        "import sklearn as sns\n",
        "import pandas as pd\n",
        "import numpy as np\n",
        "import matplotlib.pyplot as plt"
      ],
      "id": "b3c0e6ac",
      "execution_count": null,
      "outputs": []
    },
    {
      "cell_type": "code",
      "metadata": {
        "id": "ee9caab1"
      },
      "source": [
        "data = pd.read_csv('creditcard.csv')"
      ],
      "id": "ee9caab1",
      "execution_count": null,
      "outputs": []
    },
    {
      "cell_type": "code",
      "metadata": {
        "id": "033d6cb3",
        "outputId": "810db8d2-ab75-43e3-b41b-7b96a67417f7"
      },
      "source": [
        "data.head()"
      ],
      "id": "033d6cb3",
      "execution_count": null,
      "outputs": [
        {
          "data": {
            "text/html": [
              "<div>\n",
              "<style scoped>\n",
              "    .dataframe tbody tr th:only-of-type {\n",
              "        vertical-align: middle;\n",
              "    }\n",
              "\n",
              "    .dataframe tbody tr th {\n",
              "        vertical-align: top;\n",
              "    }\n",
              "\n",
              "    .dataframe thead th {\n",
              "        text-align: right;\n",
              "    }\n",
              "</style>\n",
              "<table border=\"1\" class=\"dataframe\">\n",
              "  <thead>\n",
              "    <tr style=\"text-align: right;\">\n",
              "      <th></th>\n",
              "      <th>Time</th>\n",
              "      <th>V1</th>\n",
              "      <th>V2</th>\n",
              "      <th>V3</th>\n",
              "      <th>V4</th>\n",
              "      <th>V5</th>\n",
              "      <th>V6</th>\n",
              "      <th>V7</th>\n",
              "      <th>V8</th>\n",
              "      <th>V9</th>\n",
              "      <th>...</th>\n",
              "      <th>V21</th>\n",
              "      <th>V22</th>\n",
              "      <th>V23</th>\n",
              "      <th>V24</th>\n",
              "      <th>V25</th>\n",
              "      <th>V26</th>\n",
              "      <th>V27</th>\n",
              "      <th>V28</th>\n",
              "      <th>Amount</th>\n",
              "      <th>Class</th>\n",
              "    </tr>\n",
              "  </thead>\n",
              "  <tbody>\n",
              "    <tr>\n",
              "      <th>0</th>\n",
              "      <td>0.0</td>\n",
              "      <td>-1.359807</td>\n",
              "      <td>-0.072781</td>\n",
              "      <td>2.536347</td>\n",
              "      <td>1.378155</td>\n",
              "      <td>-0.338321</td>\n",
              "      <td>0.462388</td>\n",
              "      <td>0.239599</td>\n",
              "      <td>0.098698</td>\n",
              "      <td>0.363787</td>\n",
              "      <td>...</td>\n",
              "      <td>-0.018307</td>\n",
              "      <td>0.277838</td>\n",
              "      <td>-0.110474</td>\n",
              "      <td>0.066928</td>\n",
              "      <td>0.128539</td>\n",
              "      <td>-0.189115</td>\n",
              "      <td>0.133558</td>\n",
              "      <td>-0.021053</td>\n",
              "      <td>149.62</td>\n",
              "      <td>0</td>\n",
              "    </tr>\n",
              "    <tr>\n",
              "      <th>1</th>\n",
              "      <td>0.0</td>\n",
              "      <td>1.191857</td>\n",
              "      <td>0.266151</td>\n",
              "      <td>0.166480</td>\n",
              "      <td>0.448154</td>\n",
              "      <td>0.060018</td>\n",
              "      <td>-0.082361</td>\n",
              "      <td>-0.078803</td>\n",
              "      <td>0.085102</td>\n",
              "      <td>-0.255425</td>\n",
              "      <td>...</td>\n",
              "      <td>-0.225775</td>\n",
              "      <td>-0.638672</td>\n",
              "      <td>0.101288</td>\n",
              "      <td>-0.339846</td>\n",
              "      <td>0.167170</td>\n",
              "      <td>0.125895</td>\n",
              "      <td>-0.008983</td>\n",
              "      <td>0.014724</td>\n",
              "      <td>2.69</td>\n",
              "      <td>0</td>\n",
              "    </tr>\n",
              "    <tr>\n",
              "      <th>2</th>\n",
              "      <td>1.0</td>\n",
              "      <td>-1.358354</td>\n",
              "      <td>-1.340163</td>\n",
              "      <td>1.773209</td>\n",
              "      <td>0.379780</td>\n",
              "      <td>-0.503198</td>\n",
              "      <td>1.800499</td>\n",
              "      <td>0.791461</td>\n",
              "      <td>0.247676</td>\n",
              "      <td>-1.514654</td>\n",
              "      <td>...</td>\n",
              "      <td>0.247998</td>\n",
              "      <td>0.771679</td>\n",
              "      <td>0.909412</td>\n",
              "      <td>-0.689281</td>\n",
              "      <td>-0.327642</td>\n",
              "      <td>-0.139097</td>\n",
              "      <td>-0.055353</td>\n",
              "      <td>-0.059752</td>\n",
              "      <td>378.66</td>\n",
              "      <td>0</td>\n",
              "    </tr>\n",
              "    <tr>\n",
              "      <th>3</th>\n",
              "      <td>1.0</td>\n",
              "      <td>-0.966272</td>\n",
              "      <td>-0.185226</td>\n",
              "      <td>1.792993</td>\n",
              "      <td>-0.863291</td>\n",
              "      <td>-0.010309</td>\n",
              "      <td>1.247203</td>\n",
              "      <td>0.237609</td>\n",
              "      <td>0.377436</td>\n",
              "      <td>-1.387024</td>\n",
              "      <td>...</td>\n",
              "      <td>-0.108300</td>\n",
              "      <td>0.005274</td>\n",
              "      <td>-0.190321</td>\n",
              "      <td>-1.175575</td>\n",
              "      <td>0.647376</td>\n",
              "      <td>-0.221929</td>\n",
              "      <td>0.062723</td>\n",
              "      <td>0.061458</td>\n",
              "      <td>123.50</td>\n",
              "      <td>0</td>\n",
              "    </tr>\n",
              "    <tr>\n",
              "      <th>4</th>\n",
              "      <td>2.0</td>\n",
              "      <td>-1.158233</td>\n",
              "      <td>0.877737</td>\n",
              "      <td>1.548718</td>\n",
              "      <td>0.403034</td>\n",
              "      <td>-0.407193</td>\n",
              "      <td>0.095921</td>\n",
              "      <td>0.592941</td>\n",
              "      <td>-0.270533</td>\n",
              "      <td>0.817739</td>\n",
              "      <td>...</td>\n",
              "      <td>-0.009431</td>\n",
              "      <td>0.798278</td>\n",
              "      <td>-0.137458</td>\n",
              "      <td>0.141267</td>\n",
              "      <td>-0.206010</td>\n",
              "      <td>0.502292</td>\n",
              "      <td>0.219422</td>\n",
              "      <td>0.215153</td>\n",
              "      <td>69.99</td>\n",
              "      <td>0</td>\n",
              "    </tr>\n",
              "  </tbody>\n",
              "</table>\n",
              "<p>5 rows × 31 columns</p>\n",
              "</div>"
            ],
            "text/plain": [
              "   Time        V1        V2        V3        V4        V5        V6        V7  \\\n",
              "0   0.0 -1.359807 -0.072781  2.536347  1.378155 -0.338321  0.462388  0.239599   \n",
              "1   0.0  1.191857  0.266151  0.166480  0.448154  0.060018 -0.082361 -0.078803   \n",
              "2   1.0 -1.358354 -1.340163  1.773209  0.379780 -0.503198  1.800499  0.791461   \n",
              "3   1.0 -0.966272 -0.185226  1.792993 -0.863291 -0.010309  1.247203  0.237609   \n",
              "4   2.0 -1.158233  0.877737  1.548718  0.403034 -0.407193  0.095921  0.592941   \n",
              "\n",
              "         V8        V9  ...       V21       V22       V23       V24       V25  \\\n",
              "0  0.098698  0.363787  ... -0.018307  0.277838 -0.110474  0.066928  0.128539   \n",
              "1  0.085102 -0.255425  ... -0.225775 -0.638672  0.101288 -0.339846  0.167170   \n",
              "2  0.247676 -1.514654  ...  0.247998  0.771679  0.909412 -0.689281 -0.327642   \n",
              "3  0.377436 -1.387024  ... -0.108300  0.005274 -0.190321 -1.175575  0.647376   \n",
              "4 -0.270533  0.817739  ... -0.009431  0.798278 -0.137458  0.141267 -0.206010   \n",
              "\n",
              "        V26       V27       V28  Amount  Class  \n",
              "0 -0.189115  0.133558 -0.021053  149.62      0  \n",
              "1  0.125895 -0.008983  0.014724    2.69      0  \n",
              "2 -0.139097 -0.055353 -0.059752  378.66      0  \n",
              "3 -0.221929  0.062723  0.061458  123.50      0  \n",
              "4  0.502292  0.219422  0.215153   69.99      0  \n",
              "\n",
              "[5 rows x 31 columns]"
            ]
          },
          "execution_count": 5,
          "metadata": {},
          "output_type": "execute_result"
        }
      ]
    },
    {
      "cell_type": "markdown",
      "metadata": {
        "id": "f4a37c31"
      },
      "source": [
        "About the Data\n",
        "To quote from Kaggle:\n",
        "\n",
        "\"The datasets contains transactions made by credit cards in September 2013 by european cardholders. This dataset presents transactions that occurred in two days, where we have 492 frauds out of 284,807 transactions. The dataset is highly unbalanced, the positive class (frauds) account for 0.172% of all transactions.\n",
        "\n",
        "It contains only numerical input variables which are the result of a PCA transformation. Unfortunately, due to confidentiality issues, we cannot provide the original features and more background information about the data. Features V1, V2, ... V28 are the principal components obtained with PCA, the only features which have not been transformed with PCA are 'Time' and 'Amount'.\"\n"
      ],
      "id": "f4a37c31"
    },
    {
      "cell_type": "code",
      "metadata": {
        "id": "d3e8ed8e",
        "outputId": "21090f74-5617-4aff-942a-bd10ff46c066"
      },
      "source": [
        "data['Class'].value_counts().plot.bar()"
      ],
      "id": "d3e8ed8e",
      "execution_count": null,
      "outputs": [
        {
          "data": {
            "text/plain": [
              "<AxesSubplot:>"
            ]
          },
          "execution_count": 6,
          "metadata": {},
          "output_type": "execute_result"
        },
        {
          "data": {
            "image/png": "[encoded data removed]",
            "text/plain": [
              "<Figure size 432x288 with 1 Axes>"
            ]
          },
          "metadata": {
            "needs_background": "light"
          },
          "output_type": "display_data"
        }
      ]
    },
    {
      "cell_type": "code",
      "metadata": {
        "id": "8b27269f",
        "outputId": "523b7120-b63e-4b1c-dfb9-94eeb9320ea2"
      },
      "source": [
        "print('Proportion of the classes in the data:')\n",
        "print(data['Class'].value_counts() / len(data))"
      ],
      "id": "8b27269f",
      "execution_count": null,
      "outputs": [
        {
          "name": "stdout",
          "output_type": "stream",
          "text": [
            "Proportion of the classes in the data:\n",
            "0    0.998273\n",
            "1    0.001727\n",
            "Name: Class, dtype: float64\n"
          ]
        }
      ]
    },
    {
      "cell_type": "markdown",
      "metadata": {
        "id": "1d6d6ec0"
      },
      "source": [
        "We will build a simple logistic regression classifer and compare the results for the classifier without SMOTE to with SMOTE."
      ],
      "id": "1d6d6ec0"
    },
    {
      "cell_type": "code",
      "metadata": {
        "id": "e5c51d17"
      },
      "source": [
        "data = data.drop(['Time'], axis = 1)\n",
        "X = np.array(data.loc[:, data.columns != 'Class'])\n",
        "y = np.array(data.loc[:, data.columns == 'Class']).reshape(-1, 1)"
      ],
      "id": "e5c51d17",
      "execution_count": null,
      "outputs": []
    },
    {
      "cell_type": "code",
      "metadata": {
        "id": "d2ef7e21"
      },
      "source": [
        "# standardize the data\n",
        "from sklearn.preprocessing import StandardScaler\n",
        "scaler = StandardScaler()\n",
        "X = scaler.fit_transform(X)"
      ],
      "id": "d2ef7e21",
      "execution_count": null,
      "outputs": []
    },
    {
      "cell_type": "code",
      "metadata": {
        "id": "984752e2"
      },
      "source": [
        "# split into training and testing datasets\n",
        "from sklearn.model_selection import train_test_split\n",
        "X_train, X_test, y_train, y_test = train_test_split(X, y, test_size = 0.33, random_state = 2, shuffle = True, stratify = y)"
      ],
      "id": "984752e2",
      "execution_count": null,
      "outputs": []
    },
    {
      "cell_type": "code",
      "metadata": {
        "id": "4ce8f7b2"
      },
      "source": [
        "# import logistic regression model and accuracy_score metric\n",
        "from sklearn.linear_model import LogisticRegression\n",
        "from sklearn.metrics import accuracy_score\n",
        "clf = LogisticRegression(solver = 'lbfgs')"
      ],
      "id": "4ce8f7b2",
      "execution_count": null,
      "outputs": []
    },
    {
      "cell_type": "markdown",
      "metadata": {
        "id": "ddd276da"
      },
      "source": [
        "### \"Without SMOTE\"..."
      ],
      "id": "ddd276da"
    },
    {
      "cell_type": "code",
      "metadata": {
        "id": "06ce80f1"
      },
      "source": [
        "# fit the model\n",
        "clf.fit(X_train, y_train.ravel())\n",
        "\n",
        "# prediction for training dataset\n",
        "train_pred = clf.predict(X_train)\n",
        "\n",
        "# prediction for testing dataset\n",
        "test_pred = clf.predict(X_test)"
      ],
      "id": "06ce80f1",
      "execution_count": null,
      "outputs": []
    },
    {
      "cell_type": "code",
      "metadata": {
        "id": "59c226da",
        "outputId": "befac503-72ec-4fff-d956-5cbde13f6947"
      },
      "source": [
        "print('Accuracy score for Training Dataset = ', accuracy_score(train_pred, y_train))\n",
        "print('Accuracy score for Testing Dataset = ', accuracy_score(test_pred, y_test))"
      ],
      "id": "59c226da",
      "execution_count": null,
      "outputs": [
        {
          "name": "stdout",
          "output_type": "stream",
          "text": [
            "Accuracy score for Training Dataset =  0.9991248296824232\n",
            "Accuracy score for Testing Dataset =  0.9992871354549033\n"
          ]
        }
      ]
    },
    {
      "cell_type": "markdown",
      "metadata": {
        "id": "1a5bdc52"
      },
      "source": [
        "Wow! Such high accuracies!\n",
        "\n",
        "You might think that the model has performed exceptionally well. \n",
        "Well, that's not the case. Let us examine the confusion matrix for our predictions."
      ],
      "id": "1a5bdc52"
    },
    {
      "cell_type": "code",
      "metadata": {
        "id": "86993fe3",
        "outputId": "f95f28cf-4707-4d55-f8b1-4f75cf9ea862"
      },
      "source": [
        "print('Confusion Matrix - Training Dataset')\n",
        "print(pd.crosstab(y_train.ravel(), train_pred, rownames = ['True'], colnames = ['Predicted'], margins = True))"
      ],
      "id": "86993fe3",
      "execution_count": null,
      "outputs": [
        {
          "name": "stdout",
          "output_type": "stream",
          "text": [
            "Confusion Matrix - Training Dataset\n",
            "Predicted       0    1     All\n",
            "True                          \n",
            "0          190457   33  190490\n",
            "1             134  196     330\n",
            "All        190591  229  190820\n"
          ]
        }
      ]
    },
    {
      "cell_type": "markdown",
      "metadata": {
        "id": "01c84f70"
      },
      "source": [
        "Now let's interpret the results.\n",
        "\n",
        "134 out of 330 instances which belong to class 1 have been classifed as class 0."
      ],
      "id": "01c84f70"
    },
    {
      "cell_type": "code",
      "metadata": {
        "id": "8dafee49",
        "outputId": "c73c5c12-0de8-4aee-f8a9-46ef1f42d750"
      },
      "source": [
        "134/330"
      ],
      "id": "8dafee49",
      "execution_count": null,
      "outputs": [
        {
          "data": {
            "text/plain": [
              "0.40606060606060607"
            ]
          },
          "execution_count": 15,
          "metadata": {},
          "output_type": "execute_result"
        }
      ]
    },
    {
      "cell_type": "markdown",
      "metadata": {
        "id": "abb8edb6"
      },
      "source": [
        "That is a whopping 41%! We are classifying 41% of the fraud cases as not fraud. \n",
        "This is going to cost some serious losses to the credit card company. \n",
        "You can observe this similarly in the confusion matrix of the Testing Dataset.\n",
        "The higher accuracy is not due to correct classification. \n",
        "The model has predicted the majority class for almost all the examples. \n",
        "And since about 99.8% of the examples actually belong to this class, it leads to such high accuracy scores."
      ],
      "id": "abb8edb6"
    },
    {
      "cell_type": "code",
      "metadata": {
        "id": "e976b57d",
        "outputId": "1a4a2e8a-c3a6-413b-ea30-b990012f4b69"
      },
      "source": [
        "print('Confusion Matrix - Testing Dataset')\n",
        "print(pd.crosstab(y_test.ravel(), test_pred.ravel(), rownames = ['True'], colnames = ['Predicted'], margins = True))"
      ],
      "id": "e976b57d",
      "execution_count": null,
      "outputs": [
        {
          "name": "stdout",
          "output_type": "stream",
          "text": [
            "Confusion Matrix - Testing Dataset\n",
            "Predicted      0    1    All\n",
            "True                        \n",
            "0          93815   10  93825\n",
            "1             57  105    162\n",
            "All        93872  115  93987\n"
          ]
        }
      ]
    },
    {
      "cell_type": "markdown",
      "metadata": {
        "id": "b48d7861"
      },
      "source": [
        "55 out of 162 instances which belong to class 1 have been classifed as class 0. \n",
        "We are missing about 34% of the fraud cases."
      ],
      "id": "b48d7861"
    },
    {
      "cell_type": "markdown",
      "metadata": {
        "id": "204e6b84"
      },
      "source": [
        "### \"Using SMOTE\"..."
      ],
      "id": "204e6b84"
    },
    {
      "cell_type": "markdown",
      "metadata": {
        "id": "e386a8c3"
      },
      "source": [
        "Researchers have found that balancing the data will to better classification models. We will try balancing our data using SMOTE."
      ],
      "id": "e386a8c3"
    },
    {
      "cell_type": "code",
      "metadata": {
        "id": "0ea0a32c"
      },
      "source": [
        "from imblearn.over_sampling import SMOTE\n",
        "sm = SMOTE(random_state = 33)"
      ],
      "id": "0ea0a32c",
      "execution_count": null,
      "outputs": []
    },
    {
      "cell_type": "code",
      "metadata": {
        "id": "08188a77"
      },
      "source": [
        "X_train_new, y_train_new = sm.fit_resample(X_train, y_train.ravel())"
      ],
      "id": "08188a77",
      "execution_count": null,
      "outputs": []
    },
    {
      "cell_type": "code",
      "metadata": {
        "id": "382e4032",
        "outputId": "52bcd097-762b-4aa4-d430-8897c8a72a55"
      },
      "source": [
        "# observe that data has been balanced\n",
        "pd.Series(y_train_new).value_counts().plot.bar()"
      ],
      "id": "382e4032",
      "execution_count": null,
      "outputs": [
        {
          "data": {
            "text/plain": [
              "<AxesSubplot:>"
            ]
          },
          "execution_count": 43,
          "metadata": {},
          "output_type": "execute_result"
        },
        {
          "data": {
            "image/png": "[encoded data removed]",
            "text/plain": [
              "<Figure size 432x288 with 1 Axes>"
            ]
          },
          "metadata": {
            "needs_background": "light"
          },
          "output_type": "display_data"
        }
      ]
    },
    {
      "cell_type": "code",
      "metadata": {
        "id": "bbcb33fa"
      },
      "source": [
        "# fit the model\n",
        "clf.fit(X_train_new, y_train_new)\n",
        "\n",
        "# prediction for Training data\n",
        "train_pred_sm = clf.predict(X_train_new)\n",
        "\n",
        "# prediction for Testing data\n",
        "test_pred_sm = clf.predict(X_test)"
      ],
      "id": "bbcb33fa",
      "execution_count": null,
      "outputs": []
    },
    {
      "cell_type": "code",
      "metadata": {
        "id": "0808bfdc",
        "outputId": "d96c7012-892c-4756-ce8d-517c5ff7134e"
      },
      "source": [
        "print('Accuracy score for Training Dataset = ', accuracy_score(train_pred_sm, y_train_new))\n",
        "print('Accuracy score for Testing Dataset = ', accuracy_score(test_pred_sm, y_test))"
      ],
      "id": "0808bfdc",
      "execution_count": null,
      "outputs": [
        {
          "name": "stdout",
          "output_type": "stream",
          "text": [
            "Accuracy score for Training Dataset =  0.9425271667804084\n",
            "Accuracy score for Testing Dataset =  0.9720812452786024\n"
          ]
        }
      ]
    },
    {
      "cell_type": "markdown",
      "metadata": {
        "id": "cc0c03e5"
      },
      "source": [
        "Our accuracy has reduced. But our model has definitely improved. Observe the confusion matrices."
      ],
      "id": "cc0c03e5"
    },
    {
      "cell_type": "code",
      "metadata": {
        "id": "768c547e",
        "outputId": "435ca51e-73ab-4f22-f8e9-e4e2098a8a55"
      },
      "source": [
        "print('Confusion Matrix - Training Dataset')\n",
        "print(pd.crosstab(y_train_new, train_pred_sm, rownames = ['True'], colnames = ['Predicted'], margins = True))"
      ],
      "id": "768c547e",
      "execution_count": null,
      "outputs": [
        {
          "name": "stdout",
          "output_type": "stream",
          "text": [
            "Confusion Matrix - Training Dataset\n",
            "Predicted       0       1     All\n",
            "True                             \n",
            "0          185279    5211  190490\n",
            "1           16685  173805  190490\n",
            "All        201964  179016  380980\n"
          ]
        }
      ]
    },
    {
      "cell_type": "code",
      "metadata": {
        "id": "239436fd",
        "outputId": "7eaab062-fda7-48f9-9036-cf77a79a3b05"
      },
      "source": [
        "16685/190490"
      ],
      "id": "239436fd",
      "execution_count": null,
      "outputs": [
        {
          "data": {
            "text/plain": [
              "0.08758989973226941"
            ]
          },
          "execution_count": 47,
          "metadata": {},
          "output_type": "execute_result"
        }
      ]
    },
    {
      "cell_type": "markdown",
      "metadata": {
        "id": "f42900d5"
      },
      "source": [
        "16685 out of 190490 fraud cases have been classified as not fraud. This is a mere 8.7% compared to the previous 41%.\n",
        "A vast improvement!\n",
        "Same is the case with the Testing Dataset."
      ],
      "id": "f42900d5"
    },
    {
      "cell_type": "code",
      "metadata": {
        "id": "720d571a",
        "outputId": "36c5bf48-a707-4565-acd4-b546ee328324"
      },
      "source": [
        "print('Confusion Matrix - Testing Dataset')\n",
        "print(pd.crosstab(y_test.ravel(), test_pred_sm, rownames = ['True'], colnames = ['Predicted'], margins = True))"
      ],
      "id": "720d571a",
      "execution_count": null,
      "outputs": [
        {
          "name": "stdout",
          "output_type": "stream",
          "text": [
            "Confusion Matrix - Testing Dataset\n",
            "Predicted      0     1    All\n",
            "True                         \n",
            "0          91213  2612  93825\n",
            "1             12   150    162\n",
            "All        91225  2762  93987\n"
          ]
        }
      ]
    },
    {
      "cell_type": "code",
      "metadata": {
        "id": "de1e0bea",
        "outputId": "5851606d-1552-46c7-a3ca-eee893655a4a"
      },
      "source": [
        "12/162"
      ],
      "id": "de1e0bea",
      "execution_count": null,
      "outputs": [
        {
          "data": {
            "text/plain": [
              "0.07407407407407407"
            ]
          },
          "execution_count": 49,
          "metadata": {},
          "output_type": "execute_result"
        }
      ]
    },
    {
      "cell_type": "markdown",
      "metadata": {
        "id": "60ff64ca"
      },
      "source": [
        "Roughly 7.4% of the fraud classes have been classified as not fraud."
      ],
      "id": "60ff64ca"
    },
    {
      "cell_type": "markdown",
      "metadata": {
        "id": "05ac286e"
      },
      "source": [
        "### \"Conclusion\"..."
      ],
      "id": "05ac286e"
    },
    {
      "cell_type": "markdown",
      "metadata": {
        "id": "258eb760"
      },
      "source": [
        "One might argue that the reduced accuracy is an indicator of lower model performance. However, this is not true.\n",
        "Error in prediction can be made in two ways:\n",
        "\n",
        "    1.Classifying not fraud as fraud\n",
        "    2.Classifying fraud as not fraud\n",
        "    \n",
        "It should not be hard to understand that the second error is costlier than the first.\n",
        "The objective of each classification problem is different. So make sure to evaluate each model with respect to its own objective instead of merely judging it on its accuracy."
      ],
      "id": "258eb760"
    },
    {
      "cell_type": "code",
      "metadata": {
        "id": "95413efe"
      },
      "source": [
        ""
      ],
      "id": "95413efe",
      "execution_count": null,
      "outputs": []
    }
  ]
}